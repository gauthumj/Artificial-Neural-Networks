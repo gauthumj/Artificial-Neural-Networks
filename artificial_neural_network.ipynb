{
  "nbformat": 4,
  "nbformat_minor": 0,
  "metadata": {
    "colab": {
      "name": "artificial_neural_network.ipynb",
      "provenance": [],
      "collapsed_sections": [],
      "toc_visible": true
    },
    "kernelspec": {
      "name": "python3",
      "display_name": "Python 3.7.10 64-bit ('mlenv': conda)"
    },
    "interpreter": {
      "hash": "5ad06826974dc060fa37eead2112af9e641fe3b133a4323218f615d88ba76b28"
    },
    "language_info": {
      "name": "python",
      "version": "3.7.10"
    }
  },
  "cells": [
    {
      "cell_type": "markdown",
      "metadata": {
        "id": "lP6JLo1tGNBg",
        "colab_type": "text"
      },
      "source": [
        "# Artificial Neural Network"
      ]
    },
    {
      "cell_type": "markdown",
      "metadata": {
        "id": "gWZyYmS_UE_L",
        "colab_type": "text"
      },
      "source": [
        "### Importing the libraries"
      ]
    },
    {
      "cell_type": "code",
      "execution_count": 1,
      "metadata": {},
      "outputs": [],
      "source": [
        "import numpy as np\n",
        "import pandas as pd\n",
        "import tensorflow as tf"
      ]
    },
    {
      "cell_type": "code",
      "execution_count": 2,
      "metadata": {},
      "outputs": [
        {
          "output_type": "execute_result",
          "data": {
            "text/plain": [
              "'2.5.0'"
            ]
          },
          "metadata": {},
          "execution_count": 2
        }
      ],
      "source": [
        "tf.__version__"
      ]
    },
    {
      "cell_type": "markdown",
      "metadata": {
        "id": "1E0Q3aoKUCRX",
        "colab_type": "text"
      },
      "source": [
        "## Part 1 - Data Preprocessing"
      ]
    },
    {
      "cell_type": "markdown",
      "metadata": {
        "id": "cKWAkFVGUU0Z",
        "colab_type": "text"
      },
      "source": [
        "### Importing the dataset"
      ]
    },
    {
      "cell_type": "code",
      "execution_count": 3,
      "metadata": {},
      "outputs": [],
      "source": [
        "dataset = pd.read_csv('./Churn_Modelling.csv')\n",
        "x = dataset.iloc[:,3:-1].values\n",
        "y = dataset.iloc[:,-1].values"
      ]
    },
    {
      "cell_type": "code",
      "execution_count": 4,
      "metadata": {},
      "outputs": [
        {
          "output_type": "stream",
          "name": "stdout",
          "text": [
            "[[619 'France' 'Female' ... 1 1 101348.88]\n [608 'Spain' 'Female' ... 0 1 112542.58]\n [502 'France' 'Female' ... 1 0 113931.57]\n ...\n [709 'France' 'Female' ... 0 1 42085.58]\n [772 'Germany' 'Male' ... 1 0 92888.52]\n [792 'France' 'Female' ... 1 0 38190.78]]\n"
          ]
        }
      ],
      "source": [
        "print(x)"
      ]
    },
    {
      "cell_type": "code",
      "execution_count": 5,
      "metadata": {},
      "outputs": [
        {
          "output_type": "stream",
          "name": "stdout",
          "text": [
            "[1 0 1 ... 1 1 0]\n"
          ]
        }
      ],
      "source": [
        "print(y)"
      ]
    },
    {
      "cell_type": "markdown",
      "metadata": {
        "id": "N6bQ0UgSU-NJ",
        "colab_type": "text"
      },
      "source": [
        "### Encoding categorical data"
      ]
    },
    {
      "cell_type": "markdown",
      "metadata": {
        "id": "le5MJreAbW52",
        "colab_type": "text"
      },
      "source": [
        "Label Encoding the \"Gender\" column"
      ]
    },
    {
      "cell_type": "code",
      "execution_count": 6,
      "metadata": {},
      "outputs": [
        {
          "output_type": "stream",
          "name": "stdout",
          "text": [
            "['Female' 'Female' 'Female' ... 'Female' 'Male' 'Female']\n"
          ]
        }
      ],
      "source": [
        "print(x[:,2])"
      ]
    },
    {
      "cell_type": "code",
      "execution_count": 7,
      "metadata": {},
      "outputs": [],
      "source": [
        "from sklearn.preprocessing import LabelEncoder\n",
        "le = LabelEncoder()\n",
        "x[:,2] = le.fit_transform(x[:,2])"
      ]
    },
    {
      "cell_type": "code",
      "execution_count": 8,
      "metadata": {},
      "outputs": [
        {
          "output_type": "stream",
          "name": "stdout",
          "text": [
            "[0 0 0 ... 0 1 0]\n"
          ]
        }
      ],
      "source": [
        "print(x[:,2])"
      ]
    },
    {
      "cell_type": "markdown",
      "metadata": {
        "id": "CUxGZezpbMcb",
        "colab_type": "text"
      },
      "source": [
        "*One Hot Encoding the \"Geography\" column*"
      ]
    },
    {
      "cell_type": "code",
      "execution_count": 9,
      "metadata": {},
      "outputs": [],
      "source": [
        "from sklearn.compose import ColumnTransformer\n",
        "from sklearn.preprocessing import OneHotEncoder\n",
        "et = ColumnTransformer(transformers = [('encoder', OneHotEncoder(), [1])], remainder = 'passthrough') # [1] - refers to column index\n",
        "x = np.array(et.fit_transform(x))"
      ]
    },
    {
      "cell_type": "code",
      "execution_count": 10,
      "metadata": {},
      "outputs": [
        {
          "output_type": "stream",
          "name": "stdout",
          "text": [
            "[[1.0 0.0 0.0 ... 1 1 101348.88]\n [0.0 0.0 1.0 ... 0 1 112542.58]\n [1.0 0.0 0.0 ... 1 0 113931.57]\n ...\n [1.0 0.0 0.0 ... 0 1 42085.58]\n [0.0 1.0 0.0 ... 1 0 92888.52]\n [1.0 0.0 0.0 ... 1 0 38190.78]]\n"
          ]
        }
      ],
      "source": [
        "print(x)"
      ]
    },
    {
      "source": [
        "one hot encoded column becomes the first column"
      ],
      "cell_type": "markdown",
      "metadata": {}
    },
    {
      "cell_type": "code",
      "execution_count": 11,
      "metadata": {},
      "outputs": [
        {
          "output_type": "stream",
          "name": "stdout",
          "text": [
            "[0.0 0.0 0.0 ... 0.0 1.0 0.0]\n"
          ]
        }
      ],
      "source": [
        "print(x[:,1])"
      ]
    },
    {
      "cell_type": "markdown",
      "metadata": {
        "id": "vHol938cW8zd",
        "colab_type": "text"
      },
      "source": [
        "### Splitting the dataset into the Training set and Test set"
      ]
    },
    {
      "cell_type": "code",
      "execution_count": 12,
      "metadata": {},
      "outputs": [],
      "source": [
        "from sklearn.model_selection import train_test_split\n",
        "x_train, x_test, y_train, y_test = train_test_split(x, y, test_size=0.2, random_state = 0)"
      ]
    },
    {
      "cell_type": "markdown",
      "metadata": {
        "id": "RE_FcHyfV3TQ",
        "colab_type": "text"
      },
      "source": [
        "### Feature Scaling"
      ]
    },
    {
      "cell_type": "code",
      "execution_count": 13,
      "metadata": {},
      "outputs": [
        {
          "output_type": "stream",
          "name": "stdout",
          "text": [
            "[[-1.01460667 -0.5698444   1.74309049 ...  0.64259497 -1.03227043\n",
            "   1.10643166]\n",
            " [-1.01460667  1.75486502 -0.57369368 ...  0.64259497  0.9687384\n",
            "  -0.74866447]\n",
            " [ 0.98560362 -0.5698444  -0.57369368 ...  0.64259497 -1.03227043\n",
            "   1.48533467]\n",
            " ...\n",
            " [ 0.98560362 -0.5698444  -0.57369368 ...  0.64259497 -1.03227043\n",
            "   1.41231994]\n",
            " [-1.01460667 -0.5698444   1.74309049 ...  0.64259497  0.9687384\n",
            "   0.84432121]\n",
            " [-1.01460667  1.75486502 -0.57369368 ...  0.64259497 -1.03227043\n",
            "   0.32472465]]\n",
            "[[-0.95692675  1.62776996 -0.57427105 ...  0.66011376  0.97628121\n",
            "   1.62185911]\n",
            " [ 1.04501206 -0.61433742 -0.57427105 ...  0.66011376 -1.02429504\n",
            "   0.504204  ]\n",
            " [-0.95692675 -0.61433742  1.74133801 ...  0.66011376  0.97628121\n",
            "  -0.41865644]\n",
            " ...\n",
            " [-0.95692675 -0.61433742  1.74133801 ...  0.66011376 -1.02429504\n",
            "   0.72775202]\n",
            " [-0.95692675  1.62776996 -0.57427105 ...  0.66011376  0.97628121\n",
            "  -1.54162886]\n",
            " [-0.95692675  1.62776996 -0.57427105 ...  0.66011376 -1.02429504\n",
            "   1.62356528]]\n"
          ]
        }
      ],
      "source": [
        "from sklearn.preprocessing import StandardScaler\n",
        "sc = StandardScaler()\n",
        "x_train = sc.fit_transform(x_train)\n",
        "x_test = sc.fit_transform(x_test)\n",
        "print(x_train)\n",
        "print(x_test)"
      ]
    },
    {
      "cell_type": "code",
      "execution_count": 14,
      "metadata": {},
      "outputs": [
        {
          "output_type": "stream",
          "name": "stdout",
          "text": [
            "(8000, 12)\n(8000,)\n"
          ]
        }
      ],
      "source": [
        "print(x_train.shape)\n",
        "print(y_train.shape)"
      ]
    },
    {
      "cell_type": "markdown",
      "metadata": {
        "id": "-zfEzkRVXIwF",
        "colab_type": "text"
      },
      "source": [
        "## Part 2 - Building the ANN"
      ]
    },
    {
      "cell_type": "markdown",
      "metadata": {
        "id": "KvdeScabXtlB",
        "colab_type": "text"
      },
      "source": [
        "### Initializing the ANN"
      ]
    },
    {
      "cell_type": "code",
      "execution_count": 14,
      "metadata": {},
      "outputs": [],
      "source": [
        "model = tf.keras.models.Sequential()"
      ]
    },
    {
      "cell_type": "markdown",
      "metadata": {
        "id": "rP6urV6SX7kS",
        "colab_type": "text"
      },
      "source": [
        "### Adding the input layer and the first hidden layer"
      ]
    },
    {
      "cell_type": "code",
      "execution_count": 15,
      "metadata": {},
      "outputs": [],
      "source": [
        "model.add(tf.keras.layers.Dense(units = 6, activation = 'relu'))"
      ]
    },
    {
      "cell_type": "markdown",
      "metadata": {
        "id": "BELWAc_8YJze",
        "colab_type": "text"
      },
      "source": [
        "### Adding the second hidden layer"
      ]
    },
    {
      "cell_type": "code",
      "execution_count": 16,
      "metadata": {},
      "outputs": [],
      "source": [
        "model.add(tf.keras.layers.Dense(units = 6, activation = 'relu'))"
      ]
    },
    {
      "cell_type": "markdown",
      "metadata": {
        "id": "OyNEe6RXYcU4",
        "colab_type": "text"
      },
      "source": [
        "### Adding the output layer"
      ]
    },
    {
      "cell_type": "code",
      "execution_count": 17,
      "metadata": {},
      "outputs": [],
      "source": [
        "model.add(tf.keras.layers.Dense(units = 1, activation = 'sigmoid'))"
      ]
    },
    {
      "cell_type": "markdown",
      "metadata": {
        "id": "JT4u2S1_Y4WG",
        "colab_type": "text"
      },
      "source": [
        "## Part 3 - Training the ANN"
      ]
    },
    {
      "cell_type": "markdown",
      "metadata": {
        "id": "8GWlJChhY_ZI",
        "colab_type": "text"
      },
      "source": [
        "### Compiling the ANN"
      ]
    },
    {
      "cell_type": "code",
      "execution_count": 18,
      "metadata": {},
      "outputs": [],
      "source": [
        "model.compile(optimizer = 'adam', loss = 'binary_crossentropy', metrics =['accuracy'])  "
      ]
    },
    {
      "source": [
        " binary_crossentropy if binary predictions || categorical_crossentropy + softmax output layer for non bianry predictions"
      ],
      "cell_type": "markdown",
      "metadata": {}
    },
    {
      "cell_type": "markdown",
      "metadata": {
        "id": "0QR_G5u7ZLSM",
        "colab_type": "text"
      },
      "source": [
        "### Training the ANN on the Training set"
      ]
    },
    {
      "cell_type": "code",
      "execution_count": 19,
      "metadata": {},
      "outputs": [
        {
          "output_type": "stream",
          "name": "stdout",
          "text": [
            "Epoch 1/100\n",
            "250/250 [==============================] - 3s 5ms/step - loss: 0.6697 - accuracy: 0.6296\n",
            "Epoch 2/100\n",
            "250/250 [==============================] - 1s 4ms/step - loss: 0.4743 - accuracy: 0.8020\n",
            "Epoch 3/100\n",
            "250/250 [==============================] - 1s 4ms/step - loss: 0.4405 - accuracy: 0.8061\n",
            "Epoch 4/100\n",
            "250/250 [==============================] - 1s 4ms/step - loss: 0.4266 - accuracy: 0.8127\n",
            "Epoch 5/100\n",
            "250/250 [==============================] - 1s 4ms/step - loss: 0.4148 - accuracy: 0.8204\n",
            "Epoch 6/100\n",
            "250/250 [==============================] - 1s 4ms/step - loss: 0.4007 - accuracy: 0.8305\n",
            "Epoch 7/100\n",
            "250/250 [==============================] - 1s 4ms/step - loss: 0.3865 - accuracy: 0.8370\n",
            "Epoch 8/100\n",
            "250/250 [==============================] - 1s 4ms/step - loss: 0.3746 - accuracy: 0.8424\n",
            "Epoch 9/100\n",
            "250/250 [==============================] - 1s 4ms/step - loss: 0.3655 - accuracy: 0.8462\n",
            "Epoch 10/100\n",
            "250/250 [==============================] - 1s 5ms/step - loss: 0.3586 - accuracy: 0.8499\n",
            "Epoch 11/100\n",
            "250/250 [==============================] - 1s 4ms/step - loss: 0.3526 - accuracy: 0.8553\n",
            "Epoch 12/100\n",
            "250/250 [==============================] - 1s 4ms/step - loss: 0.3479 - accuracy: 0.8570\n",
            "Epoch 13/100\n",
            "250/250 [==============================] - 1s 4ms/step - loss: 0.3444 - accuracy: 0.8597\n",
            "Epoch 14/100\n",
            "250/250 [==============================] - 1s 4ms/step - loss: 0.3423 - accuracy: 0.8602\n",
            "Epoch 15/100\n",
            "250/250 [==============================] - 1s 4ms/step - loss: 0.3407 - accuracy: 0.8614\n",
            "Epoch 16/100\n",
            "250/250 [==============================] - 1s 4ms/step - loss: 0.3394 - accuracy: 0.8626\n",
            "Epoch 17/100\n",
            "250/250 [==============================] - 1s 4ms/step - loss: 0.3386 - accuracy: 0.8616\n",
            "Epoch 18/100\n",
            "250/250 [==============================] - 1s 4ms/step - loss: 0.3377 - accuracy: 0.8622\n",
            "Epoch 19/100\n",
            "250/250 [==============================] - 1s 4ms/step - loss: 0.3372 - accuracy: 0.8644\n",
            "Epoch 20/100\n",
            "250/250 [==============================] - 1s 4ms/step - loss: 0.3375 - accuracy: 0.8634\n",
            "Epoch 21/100\n",
            "250/250 [==============================] - 1s 4ms/step - loss: 0.3365 - accuracy: 0.8614\n",
            "Epoch 22/100\n",
            "250/250 [==============================] - 1s 4ms/step - loss: 0.3364 - accuracy: 0.8631\n",
            "Epoch 23/100\n",
            "250/250 [==============================] - 1s 4ms/step - loss: 0.3356 - accuracy: 0.8652\n",
            "Epoch 24/100\n",
            "250/250 [==============================] - 1s 4ms/step - loss: 0.3358 - accuracy: 0.8636\n",
            "Epoch 25/100\n",
            "250/250 [==============================] - 1s 4ms/step - loss: 0.3354 - accuracy: 0.8645\n",
            "Epoch 26/100\n",
            "250/250 [==============================] - 1s 4ms/step - loss: 0.3356 - accuracy: 0.8641\n",
            "Epoch 27/100\n",
            "250/250 [==============================] - 1s 4ms/step - loss: 0.3349 - accuracy: 0.8654\n",
            "Epoch 28/100\n",
            "250/250 [==============================] - 1s 4ms/step - loss: 0.3346 - accuracy: 0.8633\n",
            "Epoch 29/100\n",
            "250/250 [==============================] - 1s 4ms/step - loss: 0.3346 - accuracy: 0.8649\n",
            "Epoch 30/100\n",
            "250/250 [==============================] - 1s 4ms/step - loss: 0.3346 - accuracy: 0.8650\n",
            "Epoch 31/100\n",
            "250/250 [==============================] - 1s 4ms/step - loss: 0.3344 - accuracy: 0.8650\n",
            "Epoch 32/100\n",
            "250/250 [==============================] - 1s 4ms/step - loss: 0.3336 - accuracy: 0.8646\n",
            "Epoch 33/100\n",
            "250/250 [==============================] - 1s 4ms/step - loss: 0.3341 - accuracy: 0.8641\n",
            "Epoch 34/100\n",
            "250/250 [==============================] - 1s 4ms/step - loss: 0.3338 - accuracy: 0.8648\n",
            "Epoch 35/100\n",
            "250/250 [==============================] - 1s 4ms/step - loss: 0.3343 - accuracy: 0.8651\n",
            "Epoch 36/100\n",
            "250/250 [==============================] - 1s 4ms/step - loss: 0.3339 - accuracy: 0.8646\n",
            "Epoch 37/100\n",
            "250/250 [==============================] - 1s 4ms/step - loss: 0.3339 - accuracy: 0.8658\n",
            "Epoch 38/100\n",
            "250/250 [==============================] - 1s 4ms/step - loss: 0.3334 - accuracy: 0.8666\n",
            "Epoch 39/100\n",
            "250/250 [==============================] - 1s 4ms/step - loss: 0.3336 - accuracy: 0.8661\n",
            "Epoch 40/100\n",
            "250/250 [==============================] - 1s 4ms/step - loss: 0.3334 - accuracy: 0.8651\n",
            "Epoch 41/100\n",
            "250/250 [==============================] - 1s 4ms/step - loss: 0.3336 - accuracy: 0.8645\n",
            "Epoch 42/100\n",
            "250/250 [==============================] - 1s 4ms/step - loss: 0.3336 - accuracy: 0.8649\n",
            "Epoch 43/100\n",
            "250/250 [==============================] - 1s 4ms/step - loss: 0.3332 - accuracy: 0.8661\n",
            "Epoch 44/100\n",
            "250/250 [==============================] - 1s 4ms/step - loss: 0.3331 - accuracy: 0.8652\n",
            "Epoch 45/100\n",
            "250/250 [==============================] - 1s 4ms/step - loss: 0.3333 - accuracy: 0.8650\n",
            "Epoch 46/100\n",
            "250/250 [==============================] - 1s 4ms/step - loss: 0.3334 - accuracy: 0.8655\n",
            "Epoch 47/100\n",
            "250/250 [==============================] - 1s 4ms/step - loss: 0.3331 - accuracy: 0.8666\n",
            "Epoch 48/100\n",
            "250/250 [==============================] - 1s 5ms/step - loss: 0.3332 - accuracy: 0.8656\n",
            "Epoch 49/100\n",
            "250/250 [==============================] - 1s 5ms/step - loss: 0.3327 - accuracy: 0.8651\n",
            "Epoch 50/100\n",
            "250/250 [==============================] - 1s 4ms/step - loss: 0.3328 - accuracy: 0.8664\n",
            "Epoch 51/100\n",
            "250/250 [==============================] - 1s 4ms/step - loss: 0.3335 - accuracy: 0.8645\n",
            "Epoch 52/100\n",
            "250/250 [==============================] - 1s 4ms/step - loss: 0.3327 - accuracy: 0.8660\n",
            "Epoch 53/100\n",
            "250/250 [==============================] - 1s 4ms/step - loss: 0.3328 - accuracy: 0.8652\n",
            "Epoch 54/100\n",
            "250/250 [==============================] - 1s 4ms/step - loss: 0.3320 - accuracy: 0.8665\n",
            "Epoch 55/100\n",
            "250/250 [==============================] - 1s 4ms/step - loss: 0.3326 - accuracy: 0.8662\n",
            "Epoch 56/100\n",
            "250/250 [==============================] - 1s 4ms/step - loss: 0.3327 - accuracy: 0.8658\n",
            "Epoch 57/100\n",
            "250/250 [==============================] - 1s 4ms/step - loss: 0.3328 - accuracy: 0.8670\n",
            "Epoch 58/100\n",
            "250/250 [==============================] - 1s 4ms/step - loss: 0.3325 - accuracy: 0.8666\n",
            "Epoch 59/100\n",
            "250/250 [==============================] - 1s 4ms/step - loss: 0.3321 - accuracy: 0.8654\n",
            "Epoch 60/100\n",
            "250/250 [==============================] - 1s 4ms/step - loss: 0.3328 - accuracy: 0.8656\n",
            "Epoch 61/100\n",
            "250/250 [==============================] - 1s 4ms/step - loss: 0.3325 - accuracy: 0.8654\n",
            "Epoch 62/100\n",
            "250/250 [==============================] - 1s 4ms/step - loss: 0.3324 - accuracy: 0.8665\n",
            "Epoch 63/100\n",
            "250/250 [==============================] - 1s 4ms/step - loss: 0.3322 - accuracy: 0.8658\n",
            "Epoch 64/100\n",
            "250/250 [==============================] - 1s 4ms/step - loss: 0.3322 - accuracy: 0.8661\n",
            "Epoch 65/100\n",
            "250/250 [==============================] - 1s 4ms/step - loss: 0.3322 - accuracy: 0.8666\n",
            "Epoch 66/100\n",
            "250/250 [==============================] - 1s 4ms/step - loss: 0.3322 - accuracy: 0.8659\n",
            "Epoch 67/100\n",
            "250/250 [==============================] - 1s 4ms/step - loss: 0.3323 - accuracy: 0.8659\n",
            "Epoch 68/100\n",
            "250/250 [==============================] - 1s 4ms/step - loss: 0.3321 - accuracy: 0.8646\n",
            "Epoch 69/100\n",
            "250/250 [==============================] - 1s 4ms/step - loss: 0.3320 - accuracy: 0.8660\n",
            "Epoch 70/100\n",
            "250/250 [==============================] - 1s 4ms/step - loss: 0.3322 - accuracy: 0.8664\n",
            "Epoch 71/100\n",
            "250/250 [==============================] - 1s 4ms/step - loss: 0.3319 - accuracy: 0.8671\n",
            "Epoch 72/100\n",
            "250/250 [==============================] - 1s 4ms/step - loss: 0.3321 - accuracy: 0.8664\n",
            "Epoch 73/100\n",
            "250/250 [==============================] - 1s 4ms/step - loss: 0.3319 - accuracy: 0.8660\n",
            "Epoch 74/100\n",
            "250/250 [==============================] - 1s 4ms/step - loss: 0.3314 - accuracy: 0.8673\n",
            "Epoch 75/100\n",
            "250/250 [==============================] - 1s 4ms/step - loss: 0.3320 - accuracy: 0.8652\n",
            "Epoch 76/100\n",
            "250/250 [==============================] - 1s 4ms/step - loss: 0.3321 - accuracy: 0.8654\n",
            "Epoch 77/100\n",
            "250/250 [==============================] - 1s 4ms/step - loss: 0.3318 - accuracy: 0.8662\n",
            "Epoch 78/100\n",
            "250/250 [==============================] - 1s 4ms/step - loss: 0.3317 - accuracy: 0.8659\n",
            "Epoch 79/100\n",
            "250/250 [==============================] - 1s 4ms/step - loss: 0.3322 - accuracy: 0.8674\n",
            "Epoch 80/100\n",
            "250/250 [==============================] - 1s 4ms/step - loss: 0.3321 - accuracy: 0.8662\n",
            "Epoch 81/100\n",
            "250/250 [==============================] - 1s 4ms/step - loss: 0.3321 - accuracy: 0.8670\n",
            "Epoch 82/100\n",
            "250/250 [==============================] - 1s 4ms/step - loss: 0.3319 - accuracy: 0.8670\n",
            "Epoch 83/100\n",
            "250/250 [==============================] - 1s 4ms/step - loss: 0.3319 - accuracy: 0.8664\n",
            "Epoch 84/100\n",
            "250/250 [==============================] - 1s 4ms/step - loss: 0.3316 - accuracy: 0.8674\n",
            "Epoch 85/100\n",
            "250/250 [==============================] - 1s 4ms/step - loss: 0.3312 - accuracy: 0.8649\n",
            "Epoch 86/100\n",
            "250/250 [==============================] - 1s 4ms/step - loss: 0.3313 - accuracy: 0.8674\n",
            "Epoch 87/100\n",
            "250/250 [==============================] - 1s 4ms/step - loss: 0.3317 - accuracy: 0.8666\n",
            "Epoch 88/100\n",
            "250/250 [==============================] - 1s 4ms/step - loss: 0.3316 - accuracy: 0.8671\n",
            "Epoch 89/100\n",
            "250/250 [==============================] - 1s 4ms/step - loss: 0.3316 - accuracy: 0.8664\n",
            "Epoch 90/100\n",
            "250/250 [==============================] - 1s 4ms/step - loss: 0.3315 - accuracy: 0.8668\n",
            "Epoch 91/100\n",
            "250/250 [==============================] - 1s 4ms/step - loss: 0.3315 - accuracy: 0.8660\n",
            "Epoch 92/100\n",
            "250/250 [==============================] - 1s 4ms/step - loss: 0.3314 - accuracy: 0.8670\n",
            "Epoch 93/100\n",
            "250/250 [==============================] - 1s 4ms/step - loss: 0.3319 - accuracy: 0.8659\n",
            "Epoch 94/100\n",
            "250/250 [==============================] - 1s 4ms/step - loss: 0.3317 - accuracy: 0.8662\n",
            "Epoch 95/100\n",
            "250/250 [==============================] - 1s 4ms/step - loss: 0.3312 - accuracy: 0.8671\n",
            "Epoch 96/100\n",
            "250/250 [==============================] - 1s 4ms/step - loss: 0.3316 - accuracy: 0.8675\n",
            "Epoch 97/100\n",
            "250/250 [==============================] - 1s 4ms/step - loss: 0.3311 - accuracy: 0.8674\n",
            "Epoch 98/100\n",
            "250/250 [==============================] - 1s 4ms/step - loss: 0.3314 - accuracy: 0.8670\n",
            "Epoch 99/100\n",
            "250/250 [==============================] - 1s 4ms/step - loss: 0.3312 - accuracy: 0.8666\n",
            "Epoch 100/100\n",
            "250/250 [==============================] - 1s 4ms/step - loss: 0.3310 - accuracy: 0.8675\n"
          ]
        },
        {
          "output_type": "execute_result",
          "data": {
            "text/plain": [
              "<tensorflow.python.keras.callbacks.History at 0x2c85e7c7f88>"
            ]
          },
          "metadata": {},
          "execution_count": 19
        }
      ],
      "source": [
        "model.fit(x_train, y_train, batch_size = 32, epochs = 100) # batch_size=32 - hypervalue/ default value"
      ]
    },
    {
      "cell_type": "markdown",
      "metadata": {
        "id": "tJj5k2MxZga3",
        "colab_type": "text"
      },
      "source": [
        "## Part 4 - Making the predictions and evaluating the model"
      ]
    },
    {
      "cell_type": "markdown",
      "metadata": {
        "id": "84QFoqGYeXHL",
        "colab_type": "text"
      },
      "source": [
        "### Predicting the result of a single observation"
      ]
    },
    {
      "cell_type": "markdown",
      "metadata": {
        "id": "CGRo3eacgDdC",
        "colab_type": "text"
      },
      "source": [
        "**Homework**\n",
        "\n",
        "Use our ANN model to predict if the customer with the following informations will leave the bank: \n",
        "\n",
        "Geography: France\n",
        "\n",
        "Credit Score: 600\n",
        "\n",
        "Gender: Male\n",
        "\n",
        "Age: 40 years old\n",
        "\n",
        "Tenure: 3 years\n",
        "\n",
        "Balance: \\$ 60000\n",
        "\n",
        "Number of Products: 2\n",
        "\n",
        "Does this customer have a credit card ? Yes\n",
        "\n",
        "Is this customer an Active Member: Yes\n",
        "\n",
        "Estimated Salary: \\$ 50000\n",
        "\n",
        "So, should we say goodbye to that customer ?"
      ]
    },
    {
      "cell_type": "markdown",
      "metadata": {
        "id": "ZhU1LTgPg-kH",
        "colab_type": "text"
      },
      "source": [
        "**Solution**"
      ]
    },
    {
      "source": [
        "3 important things :\n",
        "<ol>\n",
        "    <li> double sq brackets - must be 2d array for predictions\n",
        "    <li> look out for encoded variables\n",
        "    <li> check for scaling and apply during prediction\n",
        "</ol>"
      ],
      "cell_type": "markdown",
      "metadata": {}
    },
    {
      "cell_type": "code",
      "execution_count": 20,
      "metadata": {},
      "outputs": [
        {
          "output_type": "stream",
          "name": "stdout",
          "text": [
            "[[False]]\n"
          ]
        }
      ],
      "source": [
        "print(model.predict(sc.transform([[1,0,0,600,1,40,3,60000,2,1,1,50000]]))>.5)"
      ]
    },
    {
      "cell_type": "markdown",
      "metadata": {
        "id": "wGjx94g2n7OV",
        "colab_type": "text"
      },
      "source": [
        "Therefore, our ANN model predicts that this customer stays in the bank!\n",
        "\n",
        "**Important note 1:** Notice that the values of the features were all input in a double pair of square brackets. That's because the \"predict\" method always expects a 2D array as the format of its inputs. And putting our values into a double pair of square brackets makes the input exactly a 2D array.\n",
        "\n",
        "**Important note 2:** Notice also that the \"France\" country was not input as a string in the last column but as \"1, 0, 0\" in the first three columns. That's because of course the predict method expects the one-hot-encoded values of the state, and as we see in the first row of the matrix of features X, \"France\" was encoded as \"1, 0, 0\". And be careful to include these values in the first three columns, because the dummy variables are always created in the first columns."
      ]
    },
    {
      "cell_type": "markdown",
      "metadata": {
        "id": "u7yx47jPZt11",
        "colab_type": "text"
      },
      "source": [
        "### Predicting the Test set results"
      ]
    },
    {
      "cell_type": "code",
      "metadata": {
        "id": "nIyEeQdRZwgs",
        "colab_type": "code",
        "outputId": "82330ba8-9bdc-4fd1-d3cf-b6d78ee7c2a3",
        "colab": {
          "base_uri": "https://localhost:8080/",
          "height": 137
        }
      },
      "source": [
        "y_pred = model.predict(x_test)\n",
        "y_pred = (y_pred > 0.5)\n",
        "print(np.concatenate((y_pred.reshape(len(y_pred),1), y_test.reshape(len(y_test),1)),1))"
      ],
      "execution_count": 21,
      "outputs": [
        {
          "output_type": "stream",
          "name": "stdout",
          "text": [
            "[[0 0]\n [0 1]\n [0 0]\n ...\n [0 0]\n [0 0]\n [0 0]]\n"
          ]
        }
      ]
    },
    {
      "cell_type": "markdown",
      "metadata": {
        "id": "o0oyfLWoaEGw",
        "colab_type": "text"
      },
      "source": [
        "### Making the Confusion Matrix"
      ]
    },
    {
      "cell_type": "code",
      "metadata": {
        "id": "ci6K_r6LaF6P",
        "colab_type": "code",
        "outputId": "4d854e9e-22d5-432f-f6e5-a102fe3ae0bd",
        "colab": {
          "base_uri": "https://localhost:8080/",
          "height": 68
        }
      },
      "source": [
        "from sklearn.metrics import confusion_matrix, accuracy_score\n",
        "cm = confusion_matrix(y_test, y_pred)\n",
        "print(cm)\n",
        "accuracy_score(y_test, y_pred)"
      ],
      "execution_count": 22,
      "outputs": [
        {
          "output_type": "stream",
          "name": "stdout",
          "text": [
            "[[1533   62]\n [ 210  195]]\n"
          ]
        },
        {
          "output_type": "execute_result",
          "data": {
            "text/plain": [
              "0.864"
            ]
          },
          "metadata": {},
          "execution_count": 22
        }
      ]
    }
  ]
}